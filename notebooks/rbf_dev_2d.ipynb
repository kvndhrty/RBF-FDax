{
 "cells": [
  {
   "cell_type": "code",
   "execution_count": null,
   "metadata": {},
   "outputs": [],
   "source": [
    "import numpy as np\n",
    "import scipy.linalg as la\n",
    "import matplotlib.pyplot as plt\n",
    "\n",
    "\n",
    "from rbffd import *"
   ]
  },
  {
   "cell_type": "markdown",
   "metadata": {},
   "source": [
    "# Mesh "
   ]
  },
  {
   "cell_type": "code",
   "execution_count": null,
   "metadata": {},
   "outputs": [],
   "source": [
    "N = 10\n",
    "\n",
    "N_tot = N**2\n",
    "\n",
    "rng = np.random.default_rng(0)\n",
    "\n",
    "# Set up the nodes and epsilon\n",
    "D = np.hstack((rng.uniform(0, 1, (N_tot, 1)), rng.uniform(0, 1,(N_tot, 1))))\n",
    "\n",
    "plt.scatter(D[:, 0], D[:, 1])\n",
    "\n",
    "plt.show()\n",
    "\n",
    "rbf = lambda x,y : phs_rbf(x,y,3)\n",
    "\n",
    "A = rbf_matrix(D)\n",
    "\n",
    "plt.matshow(A)\n",
    "\n",
    "L = build_operator(D, operator=laplacian, rbf=rbf, stencil_size=9, pdeg=1)\n",
    "\n",
    "# Compute the eigenvalues and eigenvectors\n",
    "eigenvalues, eigenvectors = la.eig(L)"
   ]
  },
  {
   "cell_type": "code",
   "execution_count": null,
   "metadata": {},
   "outputs": [],
   "source": [
    "fig, axs = plt.subplots(N, N, figsize=(25, 25))\n",
    "\n",
    "for i, ax in enumerate(axs.flatten()):\n",
    "\n",
    "    if i > N**2-1:\n",
    "        ax.axis(\"off\")\n",
    "        continue\n",
    "\n",
    "    # Plot the function values as colors in 2D\n",
    "    ax.tripcolor(D[:,0], D[:,1], np.real(eigenvectors[:,i]), cmap='bone', shading='flat')\n",
    "    ax.set_title(f\"Eigenbasis {i+1}\")\n",
    "    \n",
    "\n",
    "plt.tight_layout()\n",
    "plt.show()"
   ]
  },
  {
   "cell_type": "markdown",
   "metadata": {},
   "source": [
    "# Grid"
   ]
  },
  {
   "cell_type": "code",
   "execution_count": null,
   "metadata": {},
   "outputs": [],
   "source": [
    "N = 10\n",
    "\n",
    "# Set up the nodes and epsilon\n",
    "X_grid = np.linspace(0, 1, N)\n",
    "Y_grid = np.linspace(0, 1, N)\n",
    "\n",
    "X, Y = np.meshgrid(X_grid, Y_grid)\n",
    "\n",
    "D = np.hstack((X.flatten()[:,None], Y.flatten()[:,None]))\n",
    "\n",
    "plt.scatter(D[:, 0], D[:, 1])\n",
    "\n",
    "plt.show()\n",
    "\n",
    "rbf = lambda x,y : phs_rbf(x,y,5)\n",
    "\n",
    "A = rbf_matrix(D)\n",
    "\n",
    "plt.matshow(A)\n",
    "\n",
    "L = build_operator(D, operator = laplacian, rbf=rbf, stencil_size=9, pdeg=1)\n",
    "\n",
    "# Compute the eigenvalues and eigenvectors\n",
    "eigenvalues, eigenvectors = la.eig(L)"
   ]
  },
  {
   "cell_type": "code",
   "execution_count": null,
   "metadata": {},
   "outputs": [],
   "source": [
    "fig, axs = plt.subplots(N, N, figsize=(25, 25))\n",
    "\n",
    "for i, ax in enumerate(axs.flatten()):\n",
    "\n",
    "    if i > N**2-1:\n",
    "        ax.axis(\"off\")\n",
    "        continue\n",
    "\n",
    "    # Plot the function values as colors in 2D\n",
    "    ax.pcolormesh(X, Y, np.real(np.sqrt(eigenvectors[:,i] * np.conj(eigenvectors[:,i])).reshape(N,N)), cmap='bone')\n",
    "    ax.set_title(f\"Eigenbasis {i+1}\")\n",
    "\n",
    "plt.tight_layout()\n",
    "plt.show()"
   ]
  },
  {
   "cell_type": "markdown",
   "metadata": {},
   "source": [
    "# Noisy Grid"
   ]
  },
  {
   "cell_type": "code",
   "execution_count": null,
   "metadata": {},
   "outputs": [],
   "source": [
    "N = 10\n",
    "\n",
    "rng = np.random.default_rng(0)\n",
    "\n",
    "var = 0.001\n",
    "\n",
    "# Set up the nodes and epsilon\n",
    "X_grid = np.linspace(0, 1, N)\n",
    "Y_grid = np.linspace(0, 1, N)\n",
    "\n",
    "X, Y = np.meshgrid(X_grid, Y_grid)\n",
    "\n",
    "X += rng.normal(0,var, (N, N))\n",
    "Y += rng.normal(0,var, (N, N))\n",
    "\n",
    "D = np.hstack((X.flatten()[:,None], Y.flatten()[:,None]))\n",
    "\n",
    "\n",
    "plt.scatter(D[:, 0], D[:, 1])\n",
    "\n",
    "plt.show()\n",
    "\n",
    "rbf = lambda x,y : phs_rbf(x,y,5)\n",
    "\n",
    "A = rbf_matrix(D)\n",
    "\n",
    "plt.matshow(A)\n",
    "\n",
    "L = build_operator(D, operator = laplacian, rbf=rbf, stencil_size=9, pdeg=1)\n",
    "\n",
    "# Compute the eigenvalues and eigenvectors\n",
    "eigenvalues, eigenvectors = la.eig(L)"
   ]
  },
  {
   "cell_type": "code",
   "execution_count": null,
   "metadata": {},
   "outputs": [],
   "source": [
    "fig, axs = plt.subplots(N, N, figsize=(25, 25))\n",
    "\n",
    "for i, ax in enumerate(axs.flatten()):\n",
    "\n",
    "    if i > N**2-1:\n",
    "        ax.axis(\"off\")\n",
    "        continue\n",
    "\n",
    "    # Plot the function values as colors in 2D\n",
    "    ax.pcolormesh(X,Y, np.real(np.sqrt(eigenvectors[:,i] * np.conj(eigenvectors[:,i])).reshape(N,N)), cmap='bone')\n",
    "    ax.set_title(f\"Eigenbasis {i+1}\")\n",
    "\n",
    "plt.tight_layout()\n",
    "plt.show()"
   ]
  }
 ],
 "metadata": {
  "kernelspec": {
   "display_name": "zfp",
   "language": "python",
   "name": "python3"
  },
  "language_info": {
   "codemirror_mode": {
    "name": "ipython",
    "version": 3
   },
   "file_extension": ".py",
   "mimetype": "text/x-python",
   "name": "python",
   "nbconvert_exporter": "python",
   "pygments_lexer": "ipython3",
   "version": "3.11.5"
  }
 },
 "nbformat": 4,
 "nbformat_minor": 2
}
