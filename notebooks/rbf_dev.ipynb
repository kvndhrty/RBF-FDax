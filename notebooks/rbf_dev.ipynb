{
 "cells": [
  {
   "cell_type": "code",
   "execution_count": null,
   "metadata": {},
   "outputs": [],
   "source": [
    "import numpy as np\n",
    "import scipy.linalg as la\n",
    "\n",
    "import matplotlib.pyplot as plt\n",
    "\n",
    "from scipy.spatial import KDTree\n",
    "\n",
    "from rbffd import *"
   ]
  },
  {
   "cell_type": "code",
   "execution_count": null,
   "metadata": {},
   "outputs": [],
   "source": [
    "S = 10\n",
    "\n",
    "N = S**2\n",
    "# Set up the nodes and epsilon\n",
    "\n",
    "rng = np.random.default_rng(0)\n",
    "\n",
    "D = np.sort(rng.gamma(3,2, (N,1)), axis=0)\n",
    "\n",
    "plt.scatter(D, np.zeros_like(D), c='k', s=10)\n",
    "\n",
    "plt.show()\n",
    "\n",
    "rbf = lambda x,y : phs_rbf(x,y,3)\n",
    "\n",
    "L = build_operator(D, operator=laplacian, rbf=rbf, stencil_size=12, pdeg=2)\n",
    "\n",
    "# Compute the eigenvalues and eigenvectors\n",
    "eigenvalues, eigenvectors = la.eig(L)"
   ]
  },
  {
   "cell_type": "code",
   "execution_count": null,
   "metadata": {},
   "outputs": [],
   "source": [
    "import matplotlib.pyplot as plt\n",
    "\n",
    "fig, axs = plt.subplots(S, S, figsize=(25, 25))\n",
    "\n",
    "for i, ax in enumerate(axs.flatten()):\n",
    "\n",
    "    if i > N-1:\n",
    "        ax.axis(\"off\")\n",
    "        continue\n",
    "\n",
    "    ax.plot(D, np.real(eigenvectors[:, i]), label=f\"Eigenvector {i+1}\")\n",
    "    ax.set_title(f\"Eigenvector {i+1}\")\n",
    "    ax.legend()\n",
    "\n",
    "plt.show()\n"
   ]
  }
 ],
 "metadata": {
  "kernelspec": {
   "display_name": "zfp",
   "language": "python",
   "name": "python3"
  },
  "language_info": {
   "codemirror_mode": {
    "name": "ipython",
    "version": 3
   },
   "file_extension": ".py",
   "mimetype": "text/x-python",
   "name": "python",
   "nbconvert_exporter": "python",
   "pygments_lexer": "ipython3",
   "version": "3.11.5"
  }
 },
 "nbformat": 4,
 "nbformat_minor": 2
}
